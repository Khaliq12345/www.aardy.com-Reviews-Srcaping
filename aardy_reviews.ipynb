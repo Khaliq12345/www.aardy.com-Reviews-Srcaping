{
  "nbformat": 4,
  "nbformat_minor": 0,
  "metadata": {
    "colab": {
      "name": "aardy_reviews.ipynb",
      "provenance": []
    },
    "kernelspec": {
      "name": "python3",
      "display_name": "Python 3"
    },
    "language_info": {
      "name": "python"
    }
  },
  "cells": [
    {
      "cell_type": "markdown",
      "source": [
        "Importing useful librabries"
      ],
      "metadata": {
        "id": "nVYuwpcz1apO"
      }
    },
    {
      "cell_type": "code",
      "execution_count": 48,
      "metadata": {
        "id": "M8onCjOu1U9C"
      },
      "outputs": [],
      "source": [
        "import requests\n",
        "from bs4 import BeautifulSoup\n",
        "import pandas as pd"
      ]
    },
    {
      "cell_type": "markdown",
      "source": [
        "Demanding requests and creating BeautifulSoup Object"
      ],
      "metadata": {
        "id": "VoNqq_-k1rBV"
      }
    },
    {
      "cell_type": "code",
      "source": [
        "response = requests.get('https://www.trustpilot.com/review/aardy.com')\n",
        "soup = BeautifulSoup(response.content,'lxml')"
      ],
      "metadata": {
        "id": "WJl3v--Q12j3"
      },
      "execution_count": 53,
      "outputs": []
    },
    {
      "cell_type": "markdown",
      "source": [
        "Getting the data"
      ],
      "metadata": {
        "id": "LAAbRUww2be7"
      }
    },
    {
      "cell_type": "code",
      "source": [
        "cards = soup.find_all('article',{'data-service-review-card-paper':'true'})\n",
        "len(cards)"
      ],
      "metadata": {
        "colab": {
          "base_uri": "https://localhost:8080/"
        },
        "id": "seELSw_W2exA",
        "outputId": "59649cef-67bf-42a9-9a32-7aaf35c1dfe6"
      },
      "execution_count": 54,
      "outputs": [
        {
          "output_type": "execute_result",
          "data": {
            "text/plain": [
              "20"
            ]
          },
          "metadata": {},
          "execution_count": 54
        }
      ]
    },
    {
      "cell_type": "code",
      "source": [
        "#name\n",
        "name = cards[0].find('div',{'class':'typography_typography__QgicV typography_bodysmall__irytL typography_weight-medium__UNMDK typography_fontstyle-normal__kHyN3 styles_consumerName__dP8Um'}).get_text().title()\n",
        "name"
      ],
      "metadata": {
        "colab": {
          "base_uri": "https://localhost:8080/",
          "height": 36
        },
        "id": "7MLHtkWq3CC-",
        "outputId": "3ceea936-35a7-4384-e4e4-b56b9b0b72d9"
      },
      "execution_count": 55,
      "outputs": [
        {
          "output_type": "execute_result",
          "data": {
            "text/plain": [
              "'Bella'"
            ],
            "application/vnd.google.colaboratory.intrinsic+json": {
              "type": "string"
            }
          },
          "metadata": {},
          "execution_count": 55
        }
      ]
    },
    {
      "cell_type": "code",
      "source": [
        "#location\n",
        "location = cards[0].find('span',{'data-consumer-country-typography':'true'}).get_text()\n",
        "location"
      ],
      "metadata": {
        "colab": {
          "base_uri": "https://localhost:8080/",
          "height": 36
        },
        "id": "b4b29kuR4J0N",
        "outputId": "d7263143-5d32-4a59-93bf-1881260dd6e9"
      },
      "execution_count": 56,
      "outputs": [
        {
          "output_type": "execute_result",
          "data": {
            "text/plain": [
              "'US'"
            ],
            "application/vnd.google.colaboratory.intrinsic+json": {
              "type": "string"
            }
          },
          "metadata": {},
          "execution_count": 56
        }
      ]
    },
    {
      "cell_type": "code",
      "source": [
        "#review\n",
        "review = cards[0].find('span',{'data-consumer-reviews-count-typography':'true'}).get_text()\n",
        "review"
      ],
      "metadata": {
        "colab": {
          "base_uri": "https://localhost:8080/",
          "height": 36
        },
        "id": "HgObyf5U7lqJ",
        "outputId": "d8f439d7-bee3-4f22-8695-d1b7d448d523"
      },
      "execution_count": 57,
      "outputs": [
        {
          "output_type": "execute_result",
          "data": {
            "text/plain": [
              "'4 reviews'"
            ],
            "application/vnd.google.colaboratory.intrinsic+json": {
              "type": "string"
            }
          },
          "metadata": {},
          "execution_count": 57
        }
      ]
    },
    {
      "cell_type": "code",
      "source": [
        "#date\n",
        "date = cards[0].find('time',{'data-service-review-date-time-ago':'true'}).get_text()\n",
        "date"
      ],
      "metadata": {
        "colab": {
          "base_uri": "https://localhost:8080/",
          "height": 36
        },
        "id": "KjPZtb_57551",
        "outputId": "7ea9dd21-0584-482b-9a84-9834b429c615"
      },
      "execution_count": 58,
      "outputs": [
        {
          "output_type": "execute_result",
          "data": {
            "text/plain": [
              "'35 minutes ago'"
            ],
            "application/vnd.google.colaboratory.intrinsic+json": {
              "type": "string"
            }
          },
          "metadata": {},
          "execution_count": 58
        }
      ]
    },
    {
      "cell_type": "code",
      "source": [
        "#content\n",
        "content = cards[0].find('p',{'data-service-review-text-typography':'true'}).get_text()\n",
        "content"
      ],
      "metadata": {
        "colab": {
          "base_uri": "https://localhost:8080/",
          "height": 36
        },
        "id": "nabzVauj8gB2",
        "outputId": "8942669b-52e5-4d74-e0df-0baad012088f"
      },
      "execution_count": 59,
      "outputs": [
        {
          "output_type": "execute_result",
          "data": {
            "text/plain": [
              "'Very easy to use. Thank you'"
            ],
            "application/vnd.google.colaboratory.intrinsic+json": {
              "type": "string"
            }
          },
          "metadata": {},
          "execution_count": 59
        }
      ]
    },
    {
      "cell_type": "markdown",
      "source": [
        "Creating lists for storage.."
      ],
      "metadata": {
        "id": "GhzM2De284DE"
      }
    },
    {
      "cell_type": "code",
      "source": [
        "n = []\n",
        "l = []\n",
        "d = []\n",
        "c = []\n"
      ],
      "metadata": {
        "id": "JrLOW5JN8-K9"
      },
      "execution_count": 60,
      "outputs": []
    },
    {
      "cell_type": "markdown",
      "source": [
        "Scraping one page"
      ],
      "metadata": {
        "id": "LewrFlcR9WR1"
      }
    },
    {
      "cell_type": "code",
      "source": [
        "n = []\n",
        "l = []\n",
        "d = []\n",
        "c = []\n",
        "for card in cards:\n",
        "  #name\n",
        "  try:\n",
        "    name = card.find('div',{'class':'typography_typography__QgicV typography_bodysmall__irytL typography_weight-medium__UNMDK typography_fontstyle-normal__kHyN3 styles_consumerName__dP8Um'}).get_text().title()\n",
        "    n.append(name)\n",
        "  except:\n",
        "    n.append('N/A')\n",
        "  #location\n",
        "  try:\n",
        "    location = card.find('span',{'data-consumer-country-typography':'true'}).get_text()\n",
        "    l.append(location)\n",
        "  except:\n",
        "    l.append('N/A')\n",
        "  #date\n",
        "  try:\n",
        "    date = card.find('time',{'data-service-review-date-time-ago':'true'}).get_text()\n",
        "    d.append(date)\n",
        "  except:\n",
        "    d.append('N/A')\n",
        "  #content\n",
        "  try:\n",
        "    content = card.find('p',{'data-service-review-text-typography':'true'}).get_text()\n",
        "    c.append(content)\n",
        "  except:\n",
        "    c.append(content)"
      ],
      "metadata": {
        "id": "QU06nd6K9aHB"
      },
      "execution_count": 61,
      "outputs": []
    },
    {
      "cell_type": "markdown",
      "source": [
        "Scraping multiple pages"
      ],
      "metadata": {
        "id": "tMbrbU8bCmNn"
      }
    },
    {
      "cell_type": "code",
      "source": [
        "\n",
        "import time\n",
        "n = []\n",
        "l = []\n",
        "d = []\n",
        "c = []\n",
        "\n",
        "for p in range(1,518):\n",
        "  response = requests.get(f'https://www.trustpilot.com/review/aardy.com?page={p}')\n",
        "  soup = BeautifulSoup(response.content,'lxml')\n",
        "  cards = soup.find_all('div',{'class':'paper_paper__1PY90 paper_square__lJX8a card_card__lQWDv card_noPadding__D8PcU styles_cardWrapper__LcCPA styles_show__HUXRb styles_reviewCard__9HxJJ'})\n",
        "  for card in cards:\n",
        "  #name\n",
        "    try:\n",
        "      name = card.find('div',{'class':'typography_typography__QgicV typography_bodysmall__irytL typography_weight-medium__UNMDK typography_fontstyle-normal__kHyN3 styles_consumerName__dP8Um'}).get_text().title()\n",
        "      n.append(name)\n",
        "    except:\n",
        "      n.append('N/A')\n",
        "    #location\n",
        "    try:\n",
        "      location = card.find('span',{'data-consumer-country-typography':'true'}).get_text()\n",
        "      l.append(location)\n",
        "    except:\n",
        "      l.append('N/A')\n",
        "    #date\n",
        "    try:\n",
        "      date = card.find('time',{'data-service-review-date-time-ago':'true'}).get_text()\n",
        "      d.append(date)\n",
        "    except:\n",
        "      d.append('N/A')\n",
        "    #content\n",
        "    try:\n",
        "      content = card.find('p',{'data-service-review-text-typography':'true'}).get_text()\n",
        "      c.append(content)\n",
        "    except:\n",
        "      c.append('N/A')\n",
        "  "
      ],
      "metadata": {
        "id": "XhcnlSaCCpsu"
      },
      "execution_count": 62,
      "outputs": []
    },
    {
      "cell_type": "code",
      "source": [
        "df = pd.DataFrame({'name':n,'location':l,'date':d,'content':c})\n",
        "df"
      ],
      "metadata": {
        "colab": {
          "base_uri": "https://localhost:8080/",
          "height": 976
        },
        "id": "aWalHdPPBhrF",
        "outputId": "78d00227-a080-4006-d488-44b7bce121c9"
      },
      "execution_count": 66,
      "outputs": [
        {
          "output_type": "execute_result",
          "data": {
            "text/plain": [
              "                 name location            date  \\\n",
              "0               Bella       US  35 minutes ago   \n",
              "1            Customer       US     3 hours ago   \n",
              "2            Customer       US    13 hours ago   \n",
              "3           Geraldine       US    14 hours ago   \n",
              "4            Customer       US    14 hours ago   \n",
              "...               ...      ...             ...   \n",
              "4695  William Stewart       US     Feb 5, 2021   \n",
              "4696          Laura L       US     Feb 5, 2021   \n",
              "4697         Customer       US     Feb 5, 2021   \n",
              "4698    Maya Chilcott       US     Feb 5, 2021   \n",
              "4699       Jean-Marie       US     Feb 5, 2021   \n",
              "\n",
              "                                                content  \n",
              "0                           Very easy to use. Thank you  \n",
              "1     Customer reps are very helpful. Dealt with Mat...  \n",
              "2     I was able to find what I wanted by very quick...  \n",
              "3     As of now, I am extremely happy with the call ...  \n",
              "4                            thank you for your service  \n",
              "...                                                 ...  \n",
              "4695                                                N/A  \n",
              "4696  These are very challenging times.  Two weeks b...  \n",
              "4697  The agent confirmed my choice for insurance. S...  \n",
              "4698  I asked a question and received an answer.  Re...  \n",
              "4699  Impressive customer service, clear, efficient,...  \n",
              "\n",
              "[4700 rows x 4 columns]"
            ],
            "text/html": [
              "\n",
              "  <div id=\"df-19b9e3a8-57ad-4170-b6fc-bb56ee6e25d3\">\n",
              "    <div class=\"colab-df-container\">\n",
              "      <div>\n",
              "<style scoped>\n",
              "    .dataframe tbody tr th:only-of-type {\n",
              "        vertical-align: middle;\n",
              "    }\n",
              "\n",
              "    .dataframe tbody tr th {\n",
              "        vertical-align: top;\n",
              "    }\n",
              "\n",
              "    .dataframe thead th {\n",
              "        text-align: right;\n",
              "    }\n",
              "</style>\n",
              "<table border=\"1\" class=\"dataframe\">\n",
              "  <thead>\n",
              "    <tr style=\"text-align: right;\">\n",
              "      <th></th>\n",
              "      <th>name</th>\n",
              "      <th>location</th>\n",
              "      <th>date</th>\n",
              "      <th>content</th>\n",
              "    </tr>\n",
              "  </thead>\n",
              "  <tbody>\n",
              "    <tr>\n",
              "      <th>0</th>\n",
              "      <td>Bella</td>\n",
              "      <td>US</td>\n",
              "      <td>35 minutes ago</td>\n",
              "      <td>Very easy to use. Thank you</td>\n",
              "    </tr>\n",
              "    <tr>\n",
              "      <th>1</th>\n",
              "      <td>Customer</td>\n",
              "      <td>US</td>\n",
              "      <td>3 hours ago</td>\n",
              "      <td>Customer reps are very helpful. Dealt with Mat...</td>\n",
              "    </tr>\n",
              "    <tr>\n",
              "      <th>2</th>\n",
              "      <td>Customer</td>\n",
              "      <td>US</td>\n",
              "      <td>13 hours ago</td>\n",
              "      <td>I was able to find what I wanted by very quick...</td>\n",
              "    </tr>\n",
              "    <tr>\n",
              "      <th>3</th>\n",
              "      <td>Geraldine</td>\n",
              "      <td>US</td>\n",
              "      <td>14 hours ago</td>\n",
              "      <td>As of now, I am extremely happy with the call ...</td>\n",
              "    </tr>\n",
              "    <tr>\n",
              "      <th>4</th>\n",
              "      <td>Customer</td>\n",
              "      <td>US</td>\n",
              "      <td>14 hours ago</td>\n",
              "      <td>thank you for your service</td>\n",
              "    </tr>\n",
              "    <tr>\n",
              "      <th>...</th>\n",
              "      <td>...</td>\n",
              "      <td>...</td>\n",
              "      <td>...</td>\n",
              "      <td>...</td>\n",
              "    </tr>\n",
              "    <tr>\n",
              "      <th>4695</th>\n",
              "      <td>William Stewart</td>\n",
              "      <td>US</td>\n",
              "      <td>Feb 5, 2021</td>\n",
              "      <td>N/A</td>\n",
              "    </tr>\n",
              "    <tr>\n",
              "      <th>4696</th>\n",
              "      <td>Laura L</td>\n",
              "      <td>US</td>\n",
              "      <td>Feb 5, 2021</td>\n",
              "      <td>These are very challenging times.  Two weeks b...</td>\n",
              "    </tr>\n",
              "    <tr>\n",
              "      <th>4697</th>\n",
              "      <td>Customer</td>\n",
              "      <td>US</td>\n",
              "      <td>Feb 5, 2021</td>\n",
              "      <td>The agent confirmed my choice for insurance. S...</td>\n",
              "    </tr>\n",
              "    <tr>\n",
              "      <th>4698</th>\n",
              "      <td>Maya Chilcott</td>\n",
              "      <td>US</td>\n",
              "      <td>Feb 5, 2021</td>\n",
              "      <td>I asked a question and received an answer.  Re...</td>\n",
              "    </tr>\n",
              "    <tr>\n",
              "      <th>4699</th>\n",
              "      <td>Jean-Marie</td>\n",
              "      <td>US</td>\n",
              "      <td>Feb 5, 2021</td>\n",
              "      <td>Impressive customer service, clear, efficient,...</td>\n",
              "    </tr>\n",
              "  </tbody>\n",
              "</table>\n",
              "<p>4700 rows × 4 columns</p>\n",
              "</div>\n",
              "      <button class=\"colab-df-convert\" onclick=\"convertToInteractive('df-19b9e3a8-57ad-4170-b6fc-bb56ee6e25d3')\"\n",
              "              title=\"Convert this dataframe to an interactive table.\"\n",
              "              style=\"display:none;\">\n",
              "        \n",
              "  <svg xmlns=\"http://www.w3.org/2000/svg\" height=\"24px\"viewBox=\"0 0 24 24\"\n",
              "       width=\"24px\">\n",
              "    <path d=\"M0 0h24v24H0V0z\" fill=\"none\"/>\n",
              "    <path d=\"M18.56 5.44l.94 2.06.94-2.06 2.06-.94-2.06-.94-.94-2.06-.94 2.06-2.06.94zm-11 1L8.5 8.5l.94-2.06 2.06-.94-2.06-.94L8.5 2.5l-.94 2.06-2.06.94zm10 10l.94 2.06.94-2.06 2.06-.94-2.06-.94-.94-2.06-.94 2.06-2.06.94z\"/><path d=\"M17.41 7.96l-1.37-1.37c-.4-.4-.92-.59-1.43-.59-.52 0-1.04.2-1.43.59L10.3 9.45l-7.72 7.72c-.78.78-.78 2.05 0 2.83L4 21.41c.39.39.9.59 1.41.59.51 0 1.02-.2 1.41-.59l7.78-7.78 2.81-2.81c.8-.78.8-2.07 0-2.86zM5.41 20L4 18.59l7.72-7.72 1.47 1.35L5.41 20z\"/>\n",
              "  </svg>\n",
              "      </button>\n",
              "      \n",
              "  <style>\n",
              "    .colab-df-container {\n",
              "      display:flex;\n",
              "      flex-wrap:wrap;\n",
              "      gap: 12px;\n",
              "    }\n",
              "\n",
              "    .colab-df-convert {\n",
              "      background-color: #E8F0FE;\n",
              "      border: none;\n",
              "      border-radius: 50%;\n",
              "      cursor: pointer;\n",
              "      display: none;\n",
              "      fill: #1967D2;\n",
              "      height: 32px;\n",
              "      padding: 0 0 0 0;\n",
              "      width: 32px;\n",
              "    }\n",
              "\n",
              "    .colab-df-convert:hover {\n",
              "      background-color: #E2EBFA;\n",
              "      box-shadow: 0px 1px 2px rgba(60, 64, 67, 0.3), 0px 1px 3px 1px rgba(60, 64, 67, 0.15);\n",
              "      fill: #174EA6;\n",
              "    }\n",
              "\n",
              "    [theme=dark] .colab-df-convert {\n",
              "      background-color: #3B4455;\n",
              "      fill: #D2E3FC;\n",
              "    }\n",
              "\n",
              "    [theme=dark] .colab-df-convert:hover {\n",
              "      background-color: #434B5C;\n",
              "      box-shadow: 0px 1px 3px 1px rgba(0, 0, 0, 0.15);\n",
              "      filter: drop-shadow(0px 1px 2px rgba(0, 0, 0, 0.3));\n",
              "      fill: #FFFFFF;\n",
              "    }\n",
              "  </style>\n",
              "\n",
              "      <script>\n",
              "        const buttonEl =\n",
              "          document.querySelector('#df-19b9e3a8-57ad-4170-b6fc-bb56ee6e25d3 button.colab-df-convert');\n",
              "        buttonEl.style.display =\n",
              "          google.colab.kernel.accessAllowed ? 'block' : 'none';\n",
              "\n",
              "        async function convertToInteractive(key) {\n",
              "          const element = document.querySelector('#df-19b9e3a8-57ad-4170-b6fc-bb56ee6e25d3');\n",
              "          const dataTable =\n",
              "            await google.colab.kernel.invokeFunction('convertToInteractive',\n",
              "                                                     [key], {});\n",
              "          if (!dataTable) return;\n",
              "\n",
              "          const docLinkHtml = 'Like what you see? Visit the ' +\n",
              "            '<a target=\"_blank\" href=https://colab.research.google.com/notebooks/data_table.ipynb>data table notebook</a>'\n",
              "            + ' to learn more about interactive tables.';\n",
              "          element.innerHTML = '';\n",
              "          dataTable['output_type'] = 'display_data';\n",
              "          await google.colab.output.renderOutput(dataTable, element);\n",
              "          const docLink = document.createElement('div');\n",
              "          docLink.innerHTML = docLinkHtml;\n",
              "          element.appendChild(docLink);\n",
              "        }\n",
              "      </script>\n",
              "    </div>\n",
              "  </div>\n",
              "  "
            ]
          },
          "metadata": {},
          "execution_count": 66
        }
      ]
    },
    {
      "cell_type": "markdown",
      "source": [
        "Data conversion"
      ],
      "metadata": {
        "id": "o-5hL9ukb73X"
      }
    },
    {
      "cell_type": "code",
      "source": [
        "df.to_csv('aardy.com_reviews.csv')\n",
        "df.to_excel('aardy.com_reviews.xlsx')"
      ],
      "metadata": {
        "id": "gtzJpETZb-4q"
      },
      "execution_count": 72,
      "outputs": []
    },
    {
      "cell_type": "markdown",
      "source": [
        "# **Thank you** ❤"
      ],
      "metadata": {
        "id": "GNGHzRt0jGZU"
      }
    }
  ]
}